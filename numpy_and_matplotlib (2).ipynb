{
 "cells": [
  {
   "cell_type": "markdown",
   "metadata": {
    "deletable": false,
    "editable": false,
    "nbgrader": {
     "checksum": "fa9c081d3524bb3f0791701dd1672cfa",
     "grade": false,
     "grade_id": "cell-b038e38b5e3072a9",
     "locked": true,
     "schema_version": 1.0,
     "solution": false
    }
   },
   "source": [
    "# IST 718: Big Data Analytics\n",
    "\n",
    "- Professor: Daniel Acuna <deacuna@syr.edu>\n",
    "- TAs: Tong Zeng <tozeng@syr.edu>, Priya Matnani <psmatnan@syr.edu>\n",
    "\n",
    "## General instructions:\n",
    "\n",
    "- You are welcome to discuss the problems with your classmates but __you are not allowed to copy any of the answers either from your classmates or from the internet__\n",
    "- You can put the homework files anywhere you want in your http://notebook.acuna.io workspace but _do not change_ the file names. The TAs and the professor use these names to grade your homework.\n",
    "- Remove or comment out code that contain `raise NotImplementedError`. This is main to make the `assert` statement fail.\n",
    "- The tests shown in some cells (i.e., `assert` statements) might not be the only ones used by the professor. Think about cases where your code should run even if it passess all hidden cases.\n",
    "- Before downloading and submitting your work through Blackboard, remember to save and press `Validate` (or go to \n",
    "`Kernel`$\\rightarrow$`Restart and Run All`). \n",
    "- Good luck!"
   ]
  },
  {
   "cell_type": "markdown",
   "metadata": {},
   "source": [
    "# Part 1: Numpy\n",
    "\n",
    "In this part of the homework, we will use `Numpy` for multiple tasks"
   ]
  },
  {
   "cell_type": "code",
   "execution_count": 1,
   "metadata": {},
   "outputs": [],
   "source": [
    "# this cell imports all the necessary package for this notebook\n",
    "%matplotlib inline\n",
    "import numpy as np\n",
    "import pandas as pd\n",
    "import matplotlib.pyplot as plt\n",
    "from numpy import linalg"
   ]
  },
  {
   "cell_type": "markdown",
   "metadata": {},
   "source": [
    "## Question 1.1:  (10 pts)\n",
    "\n",
    "In this question, we will explore basic funcionality of Numpy with the goal of later comparing two matrices. To do this comparison, we will rely on computing the norm of a matrix. In particular, we will use the $L_{2,1}$ norm. Let's define the $L_{2,1}$ norm of a matrix A as follows\n",
    "\n",
    "$$ \\left\\lVert A \\right\\rVert_{2,1} = \\sum_{j=1}^{n} \\left( \\sum_{i=1}^{m} a_{ij}^2 \\right)^{1/2} $$\n",
    "\n",
    "For example, for \n",
    "\n",
    "$$ \n",
    "A = \\left(\\begin{array}{cc}\n",
    "1 & -2\\\\\n",
    "0 & 3 \\\\\n",
    "-2 & -1\n",
    "\\end{array}\\right)\n",
    "$$\n",
    "\n",
    "the $L_{2,1}$ norm is\n",
    "\n",
    "$$\\left\\lVert A \\right\\rVert_{2,1} = \\sqrt{1^2 + 0^2 + -2^2} + \\sqrt{-2^2 + 3^2 + -1^2} = \\sqrt{5} + \\sqrt{14} \\approx 5.98 $$\n",
    "\n",
    "Implement the $L_{2,1}$ norm using only Numpy as a function `norm_21`. The function should return either `float` type or `numpy.float64` type.\n",
    "\n",
    "This means that the following call\n",
    "\n",
    "```python\n",
    "norm_21(np.array([[1, -2], [0, 3], [-2, -1]]))\n",
    "```\n",
    "\n",
    "should return approximately `5.98`\n",
    "\n",
    "**Solve this problem by combining `numpy` calls (do not use any for-loops or list comprehensions)**"
   ]
  },
  {
   "cell_type": "code",
   "execution_count": 2,
   "metadata": {
    "deletable": false,
    "nbgrader": {
     "checksum": "9ffd6aca68c48fcbcd186db635a5594c",
     "grade": false,
     "grade_id": "cell-1af650a157ed2ab3",
     "locked": false,
     "schema_version": 1.0,
     "solution": true
    }
   },
   "outputs": [],
   "source": [
    "def norm_21(A):\n",
    "    # YOUR CODE HERE\n",
    "    return np.sum(np.sqrt(np.sum(A**2,axis=0)))\n",
    "    #return np.round(np.sum(np.sqrt(np.sum(A**2,axis=0))),2)\n",
    "    #raise NotImplementedError()"
   ]
  },
  {
   "cell_type": "code",
   "execution_count": 3,
   "metadata": {},
   "outputs": [
    {
     "data": {
      "text/plain": [
       "5.9777253642737307"
      ]
     },
     "execution_count": 3,
     "metadata": {},
     "output_type": "execute_result"
    }
   ],
   "source": [
    "A = np.array(np.array([[1, -2], [0, 3], [-2, -1]]))\n",
    "#np.sum(np.sqrt(np.sum(A**2,axis=0)))\n",
    "# try it here\n",
    "norm_21(A)"
   ]
  },
  {
   "cell_type": "code",
   "execution_count": 4,
   "metadata": {
    "deletable": false,
    "editable": false,
    "nbgrader": {
     "checksum": "b729e8077cbc6307bc509bf6257bbccd",
     "grade": true,
     "grade_id": "cell-26cdc34a26d81828",
     "locked": true,
     "points": 10.0,
     "schema_version": 1.0,
     "solution": false
    }
   },
   "outputs": [],
   "source": [
    "import inspect\n",
    "\n",
    "A = np.array(np.array([[1, -2], [0, 3], [-2, -1]]))\n",
    "B = np.array([[0]])\n",
    "\n",
    "assert (type(norm_21(A)) == np.float64) or (type(norm_21(A)) == float)\n",
    "assert norm_21(B) == 0\n",
    "assert norm_21(A) == 5.9777253642737307\n",
    "# 'for' statement should be used\n",
    "assert 'for' not in inspect.getsource(norm_21)\n",
    "assert norm_21(np.eye(100)) == 100\n",
    "assert norm_21(np.eye(1000)) == 1000"
   ]
  },
  {
   "cell_type": "markdown",
   "metadata": {},
   "source": [
    "-----\n",
    "\n",
    "For the following questions, consider the following data:\n",
    "\n",
    "Below, we define a training dataset for predicting income based on age and educational level codified as number of degrees. The number of degrees from 0 (high school), 1 (bachelor), 2 (masters), and 3 (ph.d.).\n",
    "\n",
    "The feature or data matrix is already put in Numpy format with the first column being all 1s."
   ]
  },
  {
   "cell_type": "code",
   "execution_count": 5,
   "metadata": {},
   "outputs": [
    {
     "data": {
      "text/plain": [
       "100"
      ]
     },
     "execution_count": 5,
     "metadata": {},
     "output_type": "execute_result"
    }
   ],
   "source": [
    "import numpy as np\n",
    "X = np.array(\n",
    "      [[  1.,  22.,   2.],\n",
    "       [  1.,  47.,   1.],\n",
    "       [  1.,  22.,   1.],\n",
    "       [  1.,  22.,   0.],\n",
    "       [  1.,  22.,   3.],\n",
    "       [  1.,  44.,   1.],\n",
    "       [  1.,  22.,   0.],\n",
    "       [  1.,  34.,   1.],\n",
    "       [  1.,  32.,   1.],\n",
    "       [  1.,  32.,   3.],\n",
    "       [  1.,  20.,   1.],\n",
    "       [  1.,  27.,   3.],\n",
    "       [  1.,  24.,   1.],\n",
    "       [  1.,  26.,   3.],\n",
    "       [  1.,  30.,   1.],\n",
    "       [  1.,  26.,   2.],\n",
    "       [  1.,  48.,   2.],\n",
    "       [  1.,  29.,   1.],\n",
    "       [  1.,  37.,   3.],\n",
    "       [  1.,  36.,   2.],\n",
    "       [  1.,  35.,   1.],\n",
    "       [  1.,  26.,   0.],\n",
    "       [  1.,  20.,   1.],\n",
    "       [  1.,  21.,   3.],\n",
    "       [  1.,  23.,   3.],\n",
    "       [  1.,  40.,   0.],\n",
    "       [  1.,  45.,   3.],\n",
    "       [  1.,  38.,   3.],\n",
    "       [  1.,  26.,   1.],\n",
    "       [  1.,  20.,   3.],\n",
    "       [  1.,  39.,   2.],\n",
    "       [  1.,  46.,   2.],\n",
    "       [  1.,  35.,   0.],\n",
    "       [  1.,  21.,   1.],\n",
    "       [  1.,  42.,   1.],\n",
    "       [  1.,  43.,   0.],\n",
    "       [  1.,  27.,   3.],\n",
    "       [  1.,  31.,   2.],\n",
    "       [  1.,  26.,   0.],\n",
    "       [  1.,  41.,   2.],\n",
    "       [  1.,  48.,   1.],\n",
    "       [  1.,  34.,   0.],\n",
    "       [  1.,  47.,   0.],\n",
    "       [  1.,  26.,   1.],\n",
    "       [  1.,  25.,   3.],\n",
    "       [  1.,  47.,   2.],\n",
    "       [  1.,  42.,   2.],\n",
    "       [  1.,  41.,   0.],\n",
    "       [  1.,  27.,   0.],\n",
    "       [  1.,  45.,   3.],\n",
    "       [  1.,  29.,   0.],\n",
    "       [  1.,  34.,   2.],\n",
    "       [  1.,  21.,   3.],\n",
    "       [  1.,  34.,   2.],\n",
    "       [  1.,  37.,   3.],\n",
    "       [  1.,  43.,   1.],\n",
    "       [  1.,  34.,   2.],\n",
    "       [  1.,  34.,   0.],\n",
    "       [  1.,  47.,   0.],\n",
    "       [  1.,  35.,   0.],\n",
    "       [  1.,  33.,   0.],\n",
    "       [  1.,  34.,   1.],\n",
    "       [  1.,  34.,   1.],\n",
    "       [  1.,  21.,   1.],\n",
    "       [  1.,  23.,   1.],\n",
    "       [  1.,  27.,   3.],\n",
    "       [  1.,  37.,   1.],\n",
    "       [  1.,  37.,   1.],\n",
    "       [  1.,  34.,   2.],\n",
    "       [  1.,  43.,   2.],\n",
    "       [  1.,  28.,   0.],\n",
    "       [  1.,  43.,   3.],\n",
    "       [  1.,  21.,   1.],\n",
    "       [  1.,  49.,   0.],\n",
    "       [  1.,  35.,   3.],\n",
    "       [  1.,  47.,   2.],\n",
    "       [  1.,  29.,   0.],\n",
    "       [  1.,  22.,   0.],\n",
    "       [  1.,  38.,   3.],\n",
    "       [  1.,  29.,   1.],\n",
    "       [  1.,  41.,   1.],\n",
    "       [  1.,  44.,   1.],\n",
    "       [  1.,  26.,   3.],\n",
    "       [  1.,  35.,   0.],\n",
    "       [  1.,  49.,   3.],\n",
    "       [  1.,  29.,   1.],\n",
    "       [  1.,  46.,   0.],\n",
    "       [  1.,  22.,   1.],\n",
    "       [  1.,  38.,   1.],\n",
    "       [  1.,  21.,   3.],\n",
    "       [  1.,  29.,   2.],\n",
    "       [  1.,  30.,   2.],\n",
    "       [  1.,  39.,   3.],\n",
    "       [  1.,  31.,   0.],\n",
    "       [  1.,  36.,   1.],\n",
    "       [  1.,  25.,   1.],\n",
    "       [  1.,  42.,   3.],\n",
    "       [  1.,  22.,   1.],\n",
    "       [  1.,  20.,   1.],\n",
    "       [  1.,  47.,   1.]])\n",
    "income = np.array([[  66077.],\n",
    "       [  78594.],\n",
    "       [  61151.],\n",
    "       [  39011.],\n",
    "       [  72675.],\n",
    "       [  69049.],\n",
    "       [  38708.],\n",
    "       [  57436.],\n",
    "       [  58737.],\n",
    "       [  91587.],\n",
    "       [  50561.],\n",
    "       [  80245.],\n",
    "       [  49769.],\n",
    "       [  73369.],\n",
    "       [  60849.],\n",
    "       [  59974.],\n",
    "       [ 100509.],\n",
    "       [  58719.],\n",
    "       [ 109082.],\n",
    "       [  72713.],\n",
    "       [  62639.],\n",
    "       [  44629.],\n",
    "       [  52598.],\n",
    "       [  79928.],\n",
    "       [  74151.],\n",
    "       [  54630.],\n",
    "       [ 105905.],\n",
    "       [  94279.],\n",
    "       [  51266.],\n",
    "       [  77551.],\n",
    "       [  75971.],\n",
    "       [  99337.],\n",
    "       [  42135.],\n",
    "       [  57466.],\n",
    "       [  63880.],\n",
    "       [  54419.],\n",
    "       [  73602.],\n",
    "       [  74729.],\n",
    "       [  48554.],\n",
    "       [  84530.],\n",
    "       [  76958.],\n",
    "       [  50145.],\n",
    "       [  60562.],\n",
    "       [  62692.],\n",
    "       [  93035.],\n",
    "       [  96479.],\n",
    "       [  89171.],\n",
    "       [  52864.],\n",
    "       [  44414.],\n",
    "       [ 110402.],\n",
    "       [  33642.],\n",
    "       [  73758.],\n",
    "       [  78661.],\n",
    "       [  82172.],\n",
    "       [ 102208.],\n",
    "       [  70664.],\n",
    "       [  88328.],\n",
    "       [  49423.],\n",
    "       [  65059.],\n",
    "       [  46798.],\n",
    "       [  47284.],\n",
    "       [  65042.],\n",
    "       [  63681.],\n",
    "       [  48776.],\n",
    "       [  56904.],\n",
    "       [  85534.],\n",
    "       [  65455.],\n",
    "       [  74998.],\n",
    "       [  75279.],\n",
    "       [  94335.],\n",
    "       [  40767.],\n",
    "       [ 107563.],\n",
    "       [  54427.],\n",
    "       [  65258.],\n",
    "       [  89377.],\n",
    "       [  90106.],\n",
    "       [  44609.],\n",
    "       [  40783.],\n",
    "       [ 101304.],\n",
    "       [  65651.],\n",
    "       [  60830.],\n",
    "       [  71901.],\n",
    "       [  86211.],\n",
    "       [  40302.],\n",
    "       [ 105743.],\n",
    "       [  57660.],\n",
    "       [  54564.],\n",
    "       [  57149.],\n",
    "       [  68707.],\n",
    "       [  76235.],\n",
    "       [  76907.],\n",
    "       [  71769.],\n",
    "       [ 102240.],\n",
    "       [  42132.],\n",
    "       [  65735.],\n",
    "       [  56230.],\n",
    "       [ 106108.],\n",
    "       [  58697.],\n",
    "       [  54416.],\n",
    "       [  68546.]])\n",
    "\n",
    "def mse(X, b, y):\n",
    "    ypred = X.dot(b)\n",
    "    e = y - ypred\n",
    "    n = X.shape[0]\n",
    "    return (2/n)*(e.T.dot(e))[0, 0]\n",
    "\n",
    "len(income)"
   ]
  },
  {
   "cell_type": "markdown",
   "metadata": {},
   "source": [
    "# Question 1.3: (10 pts)\n",
    "\n",
    "If we define a linear function for the income prediction problem above:\n",
    "\n",
    "$$ \\hat{income} = b_0 + b_1 \\text{age} + b_2 \\text{degree} $$"
   ]
  },
  {
   "cell_type": "markdown",
   "metadata": {},
   "source": [
    "Assume that $b_0 = 15000$ and $b_2 = 15000$. Using any method you want, create a plot where the $x$ axis is $b_1$ and the y axis is the mean squared error for the data above. Use the `mse` error defined above. Create this plot using `plt.plot`. Create an appropriate title, and labels for x and y axes.\n",
    "\n",
    "In particular, evaluate the mean square error for $b_1$ as it varies in the range from 500 to 1500:"
   ]
  },
  {
   "cell_type": "code",
   "execution_count": 6,
   "metadata": {},
   "outputs": [
    {
     "data": {
      "text/plain": [
       "array([ 500,  550,  600,  650,  700,  750,  800,  850,  900,  950, 1000,\n",
       "       1050, 1100, 1150, 1200, 1250, 1300, 1350, 1400, 1450])"
      ]
     },
     "execution_count": 6,
     "metadata": {},
     "output_type": "execute_result"
    }
   ],
   "source": [
    "# plot the MSE over this range of b_1\n",
    "b_1 = np.array(range(500, 1500, 50))\n",
    "b_1"
   ]
  },
  {
   "cell_type": "markdown",
   "metadata": {},
   "source": [
    "**Hint: to answer this question you can use list comprehension to construct a numpy matrix with one column being the $x$ axis and the other being the $y$ of your plot**\n",
    "\n",
    "The plot should look something like this\n",
    "![image.png](attachment:image.png)"
   ]
  },
  {
   "cell_type": "code",
   "execution_count": 7,
   "metadata": {
    "deletable": false,
    "nbgrader": {
     "checksum": "b3392e5b8fab6bece8c2f992fb44eb91",
     "grade": true,
     "grade_id": "cell-52c5d3a4d705784c",
     "locked": false,
     "points": 10.0,
     "schema_version": 1.0,
     "solution": true
    }
   },
   "outputs": [
    {
     "name": "stdout",
     "output_type": "stream",
     "text": [
      "[609530012.91999996, 501414288.92000002, 405044464.92000002, 320420540.92000002, 247542516.92000002, 186410392.92000002, 137024168.92000002, 99383844.920000002, 73489420.920000002, 59340896.920000002, 56938272.920000002, 66281548.920000002, 87370724.920000002, 120205800.92, 164786776.92000002, 221113652.92000002, 289186428.92000002, 369005104.92000002, 460569680.92000002, 563880156.91999996]\n"
     ]
    },
    {
     "data": {
      "image/png": "[encoded data removed]",
      "text/plain": [
       "<Figure size 432x288 with 1 Axes>"
      ]
     },
     "metadata": {},
     "output_type": "display_data"
    }
   ],
   "source": [
    "plt.title('Mean squared error');\n",
    "# YOUR CODE HERE\n",
    "mse_arr =[]\n",
    "for i in range(len(b_1)):\n",
    "    mse_arr.append(mse(X,[[15000],[b_1[i]],[15000]],income))\n",
    "print(mse_arr)\n",
    "plt.plot(b_1,mse_arr)\n",
    "#raise NotImplementedError()\n",
    "plt.xlabel('b_1');\n",
    "plt.ylabel('MSE');\n",
    "plt.show()"
   ]
  },
  {
   "cell_type": "markdown",
   "metadata": {},
   "source": [
    "# Question 1.4: (20 pts)\n",
    "\n",
    "There is in fact a closed-form solution to linear regression that has the following form.\n",
    "\n",
    "$$ \\hat{b} = (X^TX)^{-1}X^Ty $$\n",
    "\n",
    "where $\\hat{b}$ is the minimum MSE estimation based on the data $X$ and $y$. Using this equation, define a Python function `estimate_b` which receives $X$ and $y$ and returns the estimated $b$. Assume that $X$ and $y$ have the correct dimensions. Use the function `inv` in the subpackage `numpy.linalg` to compute the inverse of a matrix --- i.e., $A^{-1}$ where $A = X^TX$.\n",
    "\n",
    "For example, as we derived in class, the best $b$ for a model with only intercept is just the avereage $y$. So the following code\n",
    "\n",
    "```python\n",
    "X1 = np.array([[1], [1], [1]])\n",
    "y1 = np.array([[10], [20], [30]])\n",
    "print(\"estimate with intercept only example: b= \", estimate_b(X1, y1))\n",
    "```\n",
    "\n",
    "should return\n",
    "\n",
    "```console\n",
    "estimate with intercept only example: b=  [[ 20.]]\n",
    "```"
   ]
  },
  {
   "cell_type": "code",
   "execution_count": 8,
   "metadata": {
    "deletable": false,
    "nbgrader": {
     "checksum": "3feac0912f121003ea7f716ce96e6139",
     "grade": false,
     "grade_id": "cell-7a57d290fd1f5b1f",
     "locked": false,
     "schema_version": 1.0,
     "solution": true
    }
   },
   "outputs": [],
   "source": [
    "from numpy import linalg\n",
    "# define the function here\n",
    "def estimate_b(X, y):\n",
    "    # YOUR CODE HERE\n",
    "    return (linalg.inv(X.T.dot(X)).dot(X.T)).dot(y)\n",
    "    #raise NotImplementedError()"
   ]
  },
  {
   "cell_type": "code",
   "execution_count": 9,
   "metadata": {},
   "outputs": [
    {
     "name": "stdout",
     "output_type": "stream",
     "text": [
      "estimate with intercept only example: b=  [[ 20.]]\n"
     ]
    }
   ],
   "source": [
    "# test it with the following example, which is a simple model \n",
    "# with only intercept. the resulting b should be just the average of y\n",
    "X1 = np.array([[1], [1], [1]])\n",
    "y1 = np.array([[10], [20], [30]])\n",
    "print(\"estimate with intercept only example: b= \", estimate_b(X1, y1))"
   ]
  },
  {
   "cell_type": "code",
   "execution_count": 10,
   "metadata": {},
   "outputs": [
    {
     "name": "stdout",
     "output_type": "stream",
     "text": [
      "estimate best b for class example: b=  [[ 9296.23944743]\n",
      " [  560.24558711]]\n"
     ]
    }
   ],
   "source": [
    "# a more complicated example from class relating age to income\n",
    "X2 = np.array([[1, 30],\n",
    "              [1, 20],\n",
    "              [1, 33],\n",
    "              [1, 25],\n",
    "              [1, 50]])\n",
    "y2 = np.array([[25000], [22000], [21000], [27000], [40000]])\n",
    "print(\"estimate best b for class example: b= \", estimate_b(X2, y2))"
   ]
  },
  {
   "cell_type": "code",
   "execution_count": 11,
   "metadata": {
    "deletable": false,
    "editable": false,
    "nbgrader": {
     "checksum": "580c3eaf8f1aa5c33ff93ca12b2be5f5",
     "grade": true,
     "grade_id": "cell-2cc8bc750b368212",
     "locked": true,
     "points": 10.0,
     "schema_version": 1.0,
     "solution": false
    }
   },
   "outputs": [],
   "source": [
    "# the dimensions must be correct\n",
    "assert estimate_b(np.random.random((10, 5)), np.random.random((10, 1))).shape == (5, 1)\n",
    "assert estimate_b(np.random.random((10, 10)), np.random.random((10, 1))).shape == (10, 1)\n",
    "\n",
    "# model with only intercept should give mean of y\n",
    "fake_y = np.random.random((1000, 1))\n",
    "np.testing.assert_almost_equal(estimate_b(np.ones((1000, 1)), fake_y)[0, 0], fake_y.mean())\n",
    "\n",
    "# test example from class\n",
    "X2 = np.array([[1, 30],\n",
    "              [1, 20],\n",
    "              [1, 33],\n",
    "              [1, 25],\n",
    "              [1, 50]])\n",
    "y2 = np.array([[25000], [22000], [21000], [27000], [40000]])\n",
    "np.testing.assert_almost_equal(estimate_b(X2, y2), np.array([[ 9296.23944743], [  560.24558711]]))"
   ]
  },
  {
   "cell_type": "markdown",
   "metadata": {},
   "source": [
    "# Question 1.5: (25 pts)\n",
    "\n",
    "\n",
    "In this question, you will realize that *you can fit any data with perfect MSE*. This will show you how important it is to compute MSE on data that you *did not* use during \"fitting\".\n",
    "\n",
    "In particular, you will use the income data from Question 1.2 and you will show that by producing *random features* you can perfectly predict all subjects in the dataset.\n",
    "\n",
    "First, you will define a function `mse_random_fit(y, m)` that takes any $y$ you want to predict --- e.g., income -- and the number of dimensions you want to use and it will return the `mse` of a random set of `m` features. You will follow these steps:\n",
    "\n",
    "1. This function will generate a random matrix $X$, $n$ by $m$, $n$ being the number of points in $y$, of features using the `numpy.random.random` function. Do not worry about adding a first column of 1s.\n",
    "1. Then, it will estimate the best $b$ based on the function `estimate_b` previously defined.\n",
    "1. Finally, it will compute the MSE of that $b$ using the function `mse` from Question 1.2 and return it"
   ]
  },
  {
   "cell_type": "code",
   "execution_count": 12,
   "metadata": {
    "deletable": false,
    "nbgrader": {
     "checksum": "983746867e16fc626994587e079bcaa9",
     "grade": false,
     "grade_id": "cell-81c8714a46c02a1f",
     "locked": false,
     "schema_version": 1.0,
     "solution": true
    }
   },
   "outputs": [],
   "source": [
    "def mse_random_fit(y, m):\n",
    "    n = y.shape[0]\n",
    "    # YOUR CODE HERE\n",
    "    X = np.random.random((n,m))\n",
    "    b = estimate_b(X,y)\n",
    "    return mse(X,b,y)\n",
    "    #raise NotImplementedError\n",
    "  "
   ]
  },
  {
   "cell_type": "code",
   "execution_count": 13,
   "metadata": {},
   "outputs": [
    {
     "data": {
      "text/plain": [
       "0.0"
      ]
     },
     "execution_count": 13,
     "metadata": {},
     "output_type": "execute_result"
    }
   ],
   "source": [
    "  mse_random_fit(np.array([[1]]), 1) "
   ]
  },
  {
   "cell_type": "markdown",
   "metadata": {},
   "source": [
    "For example, by definition the mse with one datapoint and dimension 1\n",
    "\n",
    "```python\n",
    "mse_random_fit(np.array([[1]]), 1)\n",
    "```\n",
    "\n",
    "should be almost zero\n",
    "\n",
    "```console\n",
    "0.0\n",
    "```"
   ]
  },
  {
   "cell_type": "code",
   "execution_count": 14,
   "metadata": {
    "deletable": false,
    "editable": false,
    "nbgrader": {
     "checksum": "e758d1526327e18e79699ff059a8ef70",
     "grade": true,
     "grade_id": "cell-58d6937d7f8117a0",
     "locked": true,
     "points": 20.0,
     "schema_version": 1.0,
     "solution": false
    }
   },
   "outputs": [],
   "source": [
    "np.testing.assert_almost_equal(mse_random_fit(np.array([[1]]), 1), 0)\n",
    "np.testing.assert_almost_equal(mse_random_fit(np.array([[-100]]), 1), 0)\n",
    "# income MSE with 1 feature should be relatively large\n",
    "np.testing.assert_array_less(2004877429, mse_random_fit(income, 1))\n",
    "# with 100 dimensions it should have MSE = 0\n",
    "np.testing.assert_almost_equal(0, mse_random_fit(income, 100), decimal=2)"
   ]
  },
  {
   "cell_type": "markdown",
   "metadata": {},
   "source": [
    "Use this function to plot how MSE decreases with the number of dimensions `m` for the income dataset. Because there are 100 income datapoints, the MSE at 100 dimensions should be almost zero"
   ]
  },
  {
   "cell_type": "markdown",
   "metadata": {},
   "source": [
    "The plot should look something like this:\n",
    "![image.png](attachment:image.png)"
   ]
  },
  {
   "cell_type": "code",
   "execution_count": 15,
   "metadata": {
    "deletable": false,
    "nbgrader": {
     "checksum": "5ac626829546e4f477dd7061688cef05",
     "grade": true,
     "grade_id": "cell-d15959aade6928ab",
     "locked": false,
     "points": 10.0,
     "schema_version": 1.0,
     "solution": true
    }
   },
   "outputs": [
    {
     "data": {
      "text/plain": [
       "Text(0,0.5,'mse')"
      ]
     },
     "execution_count": 15,
     "metadata": {},
     "output_type": "execute_result"
    },
    {
     "data": {
      "image/png": "[encoded data removed]",
      "text/plain": [
       "<Figure size 432x288 with 1 Axes>"
      ]
     },
     "metadata": {},
     "output_type": "display_data"
    }
   ],
   "source": [
    "plt.title('overfitting with random features')\n",
    "# YOUR CODE HERE\n",
    "mse_arr1=[]\n",
    "m=np.array(range(1,101))\n",
    "for i in range(len(m)):\n",
    "    mse_arr1.append(mse_random_fit(income,m[i]))\n",
    "#print(mse_arr1)\n",
    "#print(len(m))\n",
    "plt.plot(m,mse_arr1)\n",
    "#raise NotImplementedError()\n",
    "plt.xlabel('m')\n",
    "plt.ylabel('mse')"
   ]
  }
 ],
 "metadata": {
  "kernelspec": {
   "display_name": "Python 3",
   "language": "python",
   "name": "python3"
  },
  "language_info": {
   "codemirror_mode": {
    "name": "ipython",
    "version": 3
   },
   "file_extension": ".py",
   "mimetype": "text/x-python",
   "name": "python",
   "nbconvert_exporter": "python",
   "pygments_lexer": "ipython3",
   "version": "3.6.3"
  }
 },
 "nbformat": 4,
 "nbformat_minor": 2
}
