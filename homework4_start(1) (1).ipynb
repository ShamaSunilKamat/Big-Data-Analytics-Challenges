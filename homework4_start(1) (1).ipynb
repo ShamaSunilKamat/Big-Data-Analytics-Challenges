{
 "cells": [
  {
   "cell_type": "code",
   "execution_count": 3,
   "metadata": {},
   "outputs": [],
   "source": [
    "# Load the packages needed for this part\n",
    "# create spark and sparkcontext objects\n",
    "from pyspark.sql import SparkSession\n",
    "import numpy as np\n",
    "\n",
    "spark = SparkSession.builder.getOrCreate()\n",
    "sc = spark.sparkContext\n",
    "\n",
    "from pyspark.ml import feature\n",
    "from pyspark.ml import regression\n",
    "from pyspark.sql import functions as fn\n",
    "from pyspark.sql import Row\n",
    "from pyspark import sql\n",
    "\n",
    "import matplotlib.pyplot as plt\n",
    "import pandas as pd"
   ]
  },
  {
   "cell_type": "markdown",
   "metadata": {},
   "source": [
    "# Servo data analysis\n",
    "\n",
    "```console\n",
    "1. Title: Servo Data\n",
    "\n",
    "2. Sources\n",
    "   (a) Created by: Karl Ulrich (MIT) in 1986\n",
    "   (b) Donor: Ross Quinlan\n",
    "   (c) Date: May 1993\n",
    "\n",
    "3. Past Usage:\n",
    "\n",
    "   1.  Quinlan, J.R., \"Learning with continuous classes\", Proc. 5th Australian\n",
    "       Joint Conference on AI (eds A. Adams and L. Sterling), Singapore: World\n",
    "       Scientific, 1992\n",
    " \n",
    "   2.  Quinlan, J.R., \"Combining instance-based and model-based learning\",\n",
    "       Proc. ML'93 (ed P.E. Utgoff), San Mateo: Morgan Kaufmann 1993\n",
    " \n",
    "       Results on 10-way cross-validation:\n",
    " \n",
    "       Method\t\t\tAverage\t\tRelative\n",
    "       ------\t\t\t |Err|\t\t Error\n",
    " \t\t\t\t-------\t\t--------\n",
    " \n",
    "       Guessing mean\t\t  1.15\t\t  1.00\n",
    "       Instance-based\t\t   .52\t\t   .26\n",
    "       Regression\t\t   .86\t\t   .49\n",
    "       Model trees\t\t   .45\t\t   .29\n",
    "       Neural nets (G. Hinton)\t   .30\t\t   .11\n",
    "       Regression+instances\t   .48\t\t   .20\n",
    "       Model trees+instances\t   .30\t\t   .17\n",
    "       NN+instances\t\t   .29\t\t   .11\n",
    " \n",
    "4. Relevant Information:\n",
    "\n",
    "   Ross Quinlan:\n",
    "\n",
    "   This data was given to me by Karl Ulrich at MIT in 1986.  I didn't \n",
    "   record his description at the time, but here's his subsequent (1992) \n",
    "   recollection:\n",
    " \n",
    "     \"I seem to remember that the data was from a simulation of a servo\n",
    "     system involving a servo amplifier, a motor, a lead screw/nut, and a\n",
    "     sliding carriage of some sort.  It may have been on of the\n",
    "     translational axes of a robot on the 9th floor of the AI lab.  In any\n",
    "     case, the output value is almost certainly a rise time, or the time\n",
    "     required for the system to respond to a step change in a position set\n",
    "     point.\"\n",
    " \n",
    "   (Quinlan, ML'93)\n",
    "\n",
    "   \"This is an interesting collection of data provided by Karl \n",
    "    Ulrich.  It covers an extremely non-linear phenomenon - predicting the \n",
    "    rise time of a servomechanism in terms of two (continuous) gain settings\n",
    "    and two (discrete) choices of mechanical linkages.\"\n",
    "\n",
    "5. Number of Instances: 167\n",
    "\n",
    "6. Number of Attributes: 4 + numeric class attribute\n",
    "\n",
    "7. Attribute information:\n",
    "\n",
    "   1. motor: A,B,C,D,E\n",
    "   2. screw: A,B,C,D,E\n",
    "   3. pgain: 3,4,5,6\n",
    "   4. vgain: 1,2,3,4,5\n",
    "   5. class: 0.13 to 7.10\n",
    "\n",
    "8. Missing Attribute Values: None\n",
    "```"
   ]
  },
  {
   "cell_type": "code",
   "execution_count": 4,
   "metadata": {},
   "outputs": [],
   "source": [
    "data_url = \"https://archive.ics.uci.edu/ml/machine-learning-databases/servo/servo.data\""
   ]
  },
  {
   "cell_type": "code",
   "execution_count": 5,
   "metadata": {},
   "outputs": [],
   "source": [
    "servo_df = spark.createDataFrame(pd.read_csv(data_url, \n",
    "            sep=',', \n",
    "            header=None,\n",
    "            names=['motor', 'screw', 'pgain', 'vgain', 'rise_time']))"
   ]
  },
  {
   "cell_type": "code",
   "execution_count": 6,
   "metadata": {
    "scrolled": true
   },
   "outputs": [
    {
     "name": "stdout",
     "output_type": "stream",
     "text": [
      "root\n",
      " |-- motor: string (nullable = true)\n",
      " |-- screw: string (nullable = true)\n",
      " |-- pgain: long (nullable = true)\n",
      " |-- vgain: long (nullable = true)\n",
      " |-- rise_time: double (nullable = true)\n",
      "\n"
     ]
    }
   ],
   "source": [
    "servo_df.printSchema()"
   ]
  },
  {
   "cell_type": "markdown",
   "metadata": {},
   "source": [
    "# Explore the data"
   ]
  },
  {
   "cell_type": "markdown",
   "metadata": {},
   "source": [
    "## Use `limit` and `toPandas` to perform scatter plots"
   ]
  },
  {
   "cell_type": "code",
   "execution_count": 10,
   "metadata": {},
   "outputs": [
    {
     "data": {
      "text/plain": [
       "<matplotlib.axes._subplots.AxesSubplot at 0x7f55a08ab0b8>"
      ]
     },
     "execution_count": 10,
     "metadata": {},
     "output_type": "execute_result"
    },
    {
     "data": {
      "image/png": "[encoded data removed]",
      "text/plain": [
       "<Figure size 432x288 with 1 Axes>"
      ]
     },
     "metadata": {},
     "output_type": "display_data"
    }
   ],
   "source": [
    "# plot vgain vs rise_time\n",
    "servo_df.limit(20).toPandas().plot(x='vgain', y='rise_time', kind='scatter')\n"
   ]
  },
  {
   "cell_type": "code",
   "execution_count": 14,
   "metadata": {},
   "outputs": [
    {
     "data": {
      "text/plain": [
       "<matplotlib.axes._subplots.AxesSubplot at 0x7f559c6b9c50>"
      ]
     },
     "execution_count": 14,
     "metadata": {},
     "output_type": "execute_result"
    },
    {
     "data": {
      "image/png": "[encoded data removed]",
      "text/plain": [
       "<Figure size 432x288 with 1 Axes>"
      ]
     },
     "metadata": {},
     "output_type": "display_data"
    }
   ],
   "source": [
    "# plot pgain vs rise_time #without limiting the number of rows.\n",
    "servo_df.toPandas().plot(x='pgain', y='rise_time', kind='scatter')"
   ]
  },
  {
   "cell_type": "markdown",
   "metadata": {},
   "source": [
    "## Perform correlations between vgain-rise time, pgain-rise time, and vgain-pgain"
   ]
  },
  {
   "cell_type": "code",
   "execution_count": 22,
   "metadata": {},
   "outputs": [
    {
     "name": "stdout",
     "output_type": "stream",
     "text": [
      "+----------------------+----------------------+------------------+\n",
      "|corr(vgain, rise_time)|corr(pgain, rise_time)|corr(vgain, pgain)|\n",
      "+----------------------+----------------------+------------------+\n",
      "|  -0.36438266626914595|   -0.5981287119612234|0.8122683058183874|\n",
      "+----------------------+----------------------+------------------+\n",
      "\n"
     ]
    }
   ],
   "source": [
    "# your code here\n",
    "servo_df.corr('vgain','rise_time')#-0.3643826662691459\n",
    "servo_df.corr('pgain','rise_time') #-0.5981287119612232\n",
    "servo_df.corr('vgain','pgain') #0.8122683058183874\n",
    "\n",
    "servo_df.select(fn.corr('vgain','rise_time'), fn.corr('pgain','rise_time'), fn.corr('vgain','pgain')).show()"
   ]
  },
  {
   "cell_type": "markdown",
   "metadata": {},
   "source": [
    "## Compute  mean rise_time for different motors and screws. Which motor and screw has the highest and lower rise times?"
   ]
  },
  {
   "cell_type": "code",
   "execution_count": 37,
   "metadata": {},
   "outputs": [
    {
     "name": "stdout",
     "output_type": "stream",
     "text": [
      "+-----+------------------+\n",
      "|motor|            avg_rt|\n",
      "+-----+------------------+\n",
      "|    D|0.9176125145454544|\n",
      "|    E|1.1448932081818182|\n",
      "|    C|1.2540610067500002|\n",
      "|    B|1.6819423677777776|\n",
      "|    A| 1.761110668888889|\n",
      "+-----+------------------+\n",
      "\n",
      "+-----+------------------+\n",
      "|screw|    avg(rise_time)|\n",
      "+-----+------------------+\n",
      "|    E|1.2256432917241378|\n",
      "|    B|1.3919625091428571|\n",
      "|    D|1.1612471173333332|\n",
      "|    C|1.2485862280645161|\n",
      "|    A| 1.768461212142857|\n",
      "+-----+------------------+\n",
      "\n"
     ]
    }
   ],
   "source": [
    "# your code here(\n",
    "servo_df.groupBy('motor').agg(fn.mean('rise_time').alias('avg_rt')).orderBy('avg_rt').show()\n",
    "\n",
    "\n",
    "servo_df.groupBy('screw').agg(fn.mean('rise_time')).show()"
   ]
  },
  {
   "cell_type": "markdown",
   "metadata": {},
   "source": [
    "# Feature engineering"
   ]
  },
  {
   "cell_type": "markdown",
   "metadata": {},
   "source": [
    "## Create a dataframe with columns `motor` and `screw` as dummy variables, and columns `vgain`, `pgain`, and `rise_time`"
   ]
  },
  {
   "cell_type": "code",
   "execution_count": 53,
   "metadata": {},
   "outputs": [],
   "source": [
    "# your code here\n",
    "\n",
    "dummy_df= servo_df.select('motor', fn.when(fn.col('motor')=='A',1).otherwise(0).alias('motor_A'), fn.when(fn.col('motor')=='B',1).otherwise(0).alias('motor_B'),\n",
    "               fn.when(fn.col('motor')=='D',1).otherwise(0).alias('motor_D'), fn.when(fn.col('motor')=='E',1).otherwise(0).alias('motor_E'),\n",
    "                         'screw',fn.when(fn.col('screw')=='A',1).otherwise(0).alias('screw_A'), fn.when(fn.col('screw')=='B',1).otherwise(0).alias('screw_B'),\n",
    "                         fn.when(fn.col('screw')=='C',1).otherwise(0).alias('screw_C'), fn.when(fn.col('screw')=='E',1).otherwise(0).alias('screw_E'),\n",
    "                         'vgain','pgain', 'rise_time')"
   ]
  },
  {
   "cell_type": "markdown",
   "metadata": {},
   "source": [
    "## Standardize vgain and pgain: pre-compute the mean and standard deviation of each"
   ]
  },
  {
   "cell_type": "code",
   "execution_count": 73,
   "metadata": {},
   "outputs": [],
   "source": [
    "# your code here\n",
    "dummy_df.select(fn.avg('pgain').alias('avg_pgain'),fn.stddev('pgain').alias('std_pgain')).first()\n",
    "pgain_stats=dummy_df.select(fn.avg('pgain').alias('avg_pgain'),fn.stddev('pgain').alias('std_pgain')).first()\n",
    "dummy_df.withColumn('pgainz',(fn.col('pgain')-pgain_stats['avg_pgain'])/pgain_stats['std_pgain']).toPandas()\n",
    "\n",
    "dummy_df.select(fn.avg('vgain').alias('avg_vgain'),fn.stddev('vgain').alias('std_vgain')).first()\n",
    "vgain_stats=dummy_df.select(fn.avg('vgain').alias('avg_vgain'),fn.stddev('vgain').alias('std_vgain')).first()\n",
    "dummy_df.withColumn('vgainz',(fn.col('vgain')-vgain_stats['avg_vgain'])/vgain_stats['std_vgain']).toPandas()\n",
    "\n",
    "\n",
    "std_df=dummy_df.withColumn('pgainz',(fn.col('pgain')-pgain_stats['avg_pgain'])/pgain_stats['std_pgain']).withColumn('vgainz',(fn.col('vgain')-vgain_stats['avg_vgain'])/vgain_stats['std_vgain'])"
   ]
  },
  {
   "cell_type": "markdown",
   "metadata": {},
   "source": [
    "# Investigate the Dataframe method `randomSplit` to split the data into training, validation, and testing"
   ]
  },
  {
   "cell_type": "code",
   "execution_count": 77,
   "metadata": {},
   "outputs": [
    {
     "data": {
      "text/plain": [
       "99"
      ]
     },
     "execution_count": 77,
     "metadata": {},
     "output_type": "execute_result"
    }
   ],
   "source": [
    "# your code here\n",
    "std_df.randomSplit([0.6,0.3,0.1])\n",
    "training_df, validation_df, test_df = std_df.randomSplit([0.6,0.3,0.1])\n",
    "training_df.count()"
   ]
  },
  {
   "cell_type": "markdown",
   "metadata": {},
   "source": [
    "# Propose three regression models"
   ]
  },
  {
   "cell_type": "markdown",
   "metadata": {},
   "source": [
    "## Fit model with only `pgain`"
   ]
  },
  {
   "cell_type": "code",
   "execution_count": 75,
   "metadata": {},
   "outputs": [],
   "source": [
    "# code\n"
   ]
  },
  {
   "cell_type": "markdown",
   "metadata": {},
   "source": [
    "## Fit model with only `vgain`"
   ]
  },
  {
   "cell_type": "code",
   "execution_count": 21,
   "metadata": {},
   "outputs": [],
   "source": [
    "# code"
   ]
  },
  {
   "cell_type": "markdown",
   "metadata": {},
   "source": [
    "## Fit model with only motor, screw, pgain, and vgain"
   ]
  },
  {
   "cell_type": "code",
   "execution_count": 24,
   "metadata": {},
   "outputs": [],
   "source": [
    "# code"
   ]
  },
  {
   "cell_type": "markdown",
   "metadata": {},
   "source": [
    "# Compare models"
   ]
  },
  {
   "cell_type": "markdown",
   "metadata": {},
   "source": [
    "## Estimate RMSE on validation data for the three models"
   ]
  },
  {
   "cell_type": "code",
   "execution_count": 26,
   "metadata": {},
   "outputs": [],
   "source": [
    "## Pick the best one"
   ]
  },
  {
   "cell_type": "code",
   "execution_count": 27,
   "metadata": {},
   "outputs": [],
   "source": [
    "# best_model = ..."
   ]
  },
  {
   "cell_type": "markdown",
   "metadata": {},
   "source": [
    "# Estimate generalization performance (RMSE on testing)"
   ]
  },
  {
   "cell_type": "code",
   "execution_count": 28,
   "metadata": {},
   "outputs": [],
   "source": [
    "##"
   ]
  },
  {
   "cell_type": "markdown",
   "metadata": {},
   "source": [
    "# Do inference with best model"
   ]
  },
  {
   "cell_type": "code",
   "execution_count": 29,
   "metadata": {},
   "outputs": [],
   "source": [
    "# interpret coefficients"
   ]
  }
 ],
 "metadata": {
  "kernelspec": {
   "display_name": "Python 3",
   "language": "python",
   "name": "python3"
  },
  "language_info": {
   "codemirror_mode": {
    "name": "ipython",
    "version": 3
   },
   "file_extension": ".py",
   "mimetype": "text/x-python",
   "name": "python",
   "nbconvert_exporter": "python",
   "pygments_lexer": "ipython3",
   "version": "3.6.6"
  }
 },
 "nbformat": 4,
 "nbformat_minor": 2
}
